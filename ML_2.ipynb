{
  "nbformat": 4,
  "nbformat_minor": 0,
  "metadata": {
    "colab": {
      "name": "ML_2.ipynb",
      "provenance": [],
      "collapsed_sections": []
    },
    "kernelspec": {
      "name": "python3",
      "display_name": "Python 3"
    },
    "language_info": {
      "name": "python"
    },
    "accelerator": "GPU"
  },
  "cells": [
    {
      "cell_type": "code",
      "source": [
        "from google.colab import drive\n",
        "drive.mount('/content/drive')"
      ],
      "metadata": {
        "colab": {
          "base_uri": "https://localhost:8080/"
        },
        "id": "cFfVk43dpgt9",
        "outputId": "8497db6a-5832-492d-ac13-3d2ec87597fd"
      },
      "execution_count": 1,
      "outputs": [
        {
          "output_type": "stream",
          "name": "stdout",
          "text": [
            "Mounted at /content/drive\n"
          ]
        }
      ]
    },
    {
      "cell_type": "code",
      "execution_count": 2,
      "metadata": {
        "id": "0rgGPTPKnATk"
      },
      "outputs": [],
      "source": [
        "import pandas as pd \n",
        "import matplotlib.pyplot as plt\n",
        "import seaborn as sb\n",
        "import sklearn.tree as tree\n",
        "import graphviz\n",
        "from sklearn.preprocessing import MinMaxScaler\n",
        "from sklearn.linear_model import LogisticRegression\n",
        "from sklearn.metrics import confusion_matrix\n",
        "from sklearn.naive_bayes import GaussianNB\n",
        "from sklearn.model_selection import train_test_split\n",
        "from sklearn.discriminant_analysis import LinearDiscriminantAnalysis\n",
        "from sklearn.svm import SVC"
      ]
    },
    {
      "cell_type": "code",
      "source": [
        "data = pd.read_csv('/content/drive/MyDrive/saratan/data.csv').drop(columns=['Unnamed: 0'])\n",
        "labels = pd.read_csv('/content/drive/MyDrive/saratan/labels.csv').drop(columns=['Unnamed: 0'])"
      ],
      "metadata": {
        "id": "1E1CAEPEpmIr"
      },
      "execution_count": 3,
      "outputs": []
    },
    {
      "cell_type": "code",
      "source": [
        "print(data)\n",
        "print(labels)"
      ],
      "metadata": {
        "colab": {
          "base_uri": "https://localhost:8080/"
        },
        "id": "_APyGqqv-1gV",
        "outputId": "9d90f8c5-94b5-4268-c1bd-b035c985eaa3"
      },
      "execution_count": 4,
      "outputs": [
        {
          "output_type": "stream",
          "name": "stdout",
          "text": [
            "     gene_0    gene_1    gene_2    gene_3     gene_4  gene_5    gene_6  \\\n",
            "0       0.0  2.017209  3.265527  5.478487  10.431999     0.0  7.175175   \n",
            "1       0.0  0.592732  1.588421  7.586157   9.623011     0.0  6.816049   \n",
            "2       0.0  3.511759  4.327199  6.881787   9.870730     0.0  6.972130   \n",
            "3       0.0  3.663618  4.507649  6.659068  10.196184     0.0  7.843375   \n",
            "4       0.0  2.655741  2.821547  6.539454   9.738265     0.0  6.566967   \n",
            "..      ...       ...       ...       ...        ...     ...       ...   \n",
            "796     0.0  1.865642  2.718197  7.350099  10.006003     0.0  6.764792   \n",
            "797     0.0  3.942955  4.453807  6.346597  10.056868     0.0  7.320331   \n",
            "798     0.0  3.249582  3.707492  8.185901   9.504082     0.0  7.536589   \n",
            "799     0.0  2.590339  2.787976  7.318624   9.987136     0.0  9.213464   \n",
            "800     0.0  2.325242  3.805932  6.530246   9.560367     0.0  7.957027   \n",
            "\n",
            "       gene_7  gene_8  gene_9  ...  gene_20521  gene_20522  gene_20523  \\\n",
            "0    0.591871     0.0     0.0  ...    4.926711    8.210257    9.723516   \n",
            "1    0.000000     0.0     0.0  ...    4.593372    7.323865    9.740931   \n",
            "2    0.452595     0.0     0.0  ...    5.125213    8.127123   10.908640   \n",
            "3    0.434882     0.0     0.0  ...    6.076566    8.792959   10.141520   \n",
            "4    0.360982     0.0     0.0  ...    5.996032    8.891425   10.373790   \n",
            "..        ...     ...     ...  ...         ...         ...         ...   \n",
            "796  0.496922     0.0     0.0  ...    6.088133    9.118313   10.004852   \n",
            "797  0.000000     0.0     0.0  ...    6.371876    9.623335    9.823921   \n",
            "798  1.811101     0.0     0.0  ...    5.719386    8.610704   10.485517   \n",
            "799  0.000000     0.0     0.0  ...    5.785237    8.605387   11.004677   \n",
            "800  0.000000     0.0     0.0  ...    6.403075    8.594354   10.243079   \n",
            "\n",
            "     gene_20524  gene_20525  gene_20526  gene_20527  gene_20528  gene_20529  \\\n",
            "0      7.220030    9.119813   12.003135    9.650743    8.921326    5.286759   \n",
            "1      6.256586    8.381612   12.674552   10.517059    9.397854    2.094168   \n",
            "2      5.401607    9.911597    9.045255    9.788359   10.090470    1.683023   \n",
            "3      8.942805    9.601208   11.392682    9.694814    9.684365    3.292001   \n",
            "4      7.181162    9.846910   11.922439    9.217749    9.461191    5.110372   \n",
            "..          ...         ...         ...         ...         ...         ...   \n",
            "796    4.484415    9.614701   12.031267    9.813063   10.092770    8.819269   \n",
            "797    6.555327    9.064002   11.633422   10.317266    8.745983    9.659081   \n",
            "798    3.589763    9.350636   12.180944   10.681194    9.466711    4.677458   \n",
            "799    4.745888    9.626383   11.198279   10.335513   10.400581    5.718751   \n",
            "800    9.139459   10.102934   11.641081   10.607358    9.844794    4.550716   \n",
            "\n",
            "     gene_20530  \n",
            "0      0.000000  \n",
            "1      0.000000  \n",
            "2      0.000000  \n",
            "3      0.000000  \n",
            "4      0.000000  \n",
            "..          ...  \n",
            "796    0.000000  \n",
            "797    0.000000  \n",
            "798    0.586693  \n",
            "799    0.000000  \n",
            "800    0.000000  \n",
            "\n",
            "[801 rows x 20531 columns]\n",
            "    Class\n",
            "0    PRAD\n",
            "1    LUAD\n",
            "2    PRAD\n",
            "3    PRAD\n",
            "4    BRCA\n",
            "..    ...\n",
            "796  BRCA\n",
            "797  LUAD\n",
            "798  COAD\n",
            "799  PRAD\n",
            "800  PRAD\n",
            "\n",
            "[801 rows x 1 columns]\n"
          ]
        }
      ]
    },
    {
      "cell_type": "code",
      "source": [
        "X_train, X_test, y_train, y_test = train_test_split(data, labels, test_size=0.2, random_state=42)"
      ],
      "metadata": {
        "id": "dN3aSec0Epa0"
      },
      "execution_count": 5,
      "outputs": []
    },
    {
      "cell_type": "code",
      "source": [
        "print(X_train)\n",
        "print(X_test)\n",
        "print(y_train)\n",
        "print(y_test)"
      ],
      "metadata": {
        "colab": {
          "base_uri": "https://localhost:8080/"
        },
        "id": "osDAcmlp-yoi",
        "outputId": "b5283905-db05-45e1-cb54-711308f28a0f"
      },
      "execution_count": 6,
      "outputs": [
        {
          "output_type": "stream",
          "name": "stdout",
          "text": [
            "     gene_0    gene_1    gene_2    gene_3     gene_4  gene_5    gene_6  \\\n",
            "616     0.0  5.257467  3.658154  7.475920  10.532229     0.0  6.581443   \n",
            "329     0.0  3.972858  3.368908  6.644179   9.361722     0.0  8.306344   \n",
            "342     0.0  3.571592  3.900113  6.351773   9.740098     0.0  8.413133   \n",
            "394     0.0  3.835964  4.914249  6.419020   9.200234     0.0  7.591784   \n",
            "79      0.0  3.219029  2.284781  8.124178  10.386132     0.0  5.780310   \n",
            "..      ...       ...       ...       ...        ...     ...       ...   \n",
            "71      0.0  1.017138  2.526920  5.831520   9.959973     0.0  7.841583   \n",
            "106     0.0  1.228542  1.880881  5.706903  10.026648     0.0  7.178426   \n",
            "270     0.0  2.528396  2.620305  6.350181   9.007260     0.0  9.862189   \n",
            "435     0.0  4.134196  3.722608  6.139899   9.642600     0.0  7.988401   \n",
            "102     0.0  2.990483  2.487358  6.938227  10.034826     0.0  6.910541   \n",
            "\n",
            "       gene_7  gene_8  gene_9  ...  gene_20521  gene_20522  gene_20523  \\\n",
            "616  0.000000     0.0     0.0  ...    5.898494    9.431353   10.331006   \n",
            "329  0.431142     0.0     0.0  ...    6.431859    9.140965   10.624622   \n",
            "342  0.427284     0.0     0.0  ...    6.270166    9.507777    9.456317   \n",
            "394  0.629939     0.0     0.0  ...    6.871314    9.930158   10.783563   \n",
            "79   0.521252     0.0     0.0  ...    4.235850    8.706959    9.637483   \n",
            "..        ...     ...     ...  ...         ...         ...         ...   \n",
            "71   0.000000     0.0     0.0  ...    5.536317    8.512377    9.799868   \n",
            "106  0.449957     0.0     0.0  ...    5.069397    8.502394    9.937915   \n",
            "270  1.446203     0.0     0.0  ...    6.190097    8.205021   10.598397   \n",
            "435  1.683652     0.0     0.0  ...    7.490530    9.152830   10.088960   \n",
            "102  0.366140     0.0     0.0  ...    6.124150    8.850065   10.494036   \n",
            "\n",
            "     gene_20524  gene_20525  gene_20526  gene_20527  gene_20528  gene_20529  \\\n",
            "616    8.580372   10.036847   11.432338   10.221418   11.005996    5.364131   \n",
            "329    4.984161    9.985159   12.167415   10.983450    9.210472   10.333625   \n",
            "342    7.227991    9.542202   11.353886   10.655405    9.469707    8.015928   \n",
            "394    2.099363   10.293610   12.520019   11.092585    9.215594    3.764824   \n",
            "79     0.521252    9.059715   12.218963   10.892148    9.083054    3.460572   \n",
            "..          ...         ...         ...         ...         ...         ...   \n",
            "71     6.120142    9.339512   12.115876    9.799868    9.364084    5.494188   \n",
            "106    2.923834    9.514911   12.364597    9.977738    9.537115    2.777472   \n",
            "270    5.077786    9.823576   11.732180   10.347455    9.279671    4.189730   \n",
            "435    0.797013   10.310397   12.173708   10.976041   10.023505    6.391709   \n",
            "102    7.278515   10.215339   11.901384   10.453590   10.176248    6.941388   \n",
            "\n",
            "     gene_20530  \n",
            "616         0.0  \n",
            "329         0.0  \n",
            "342         0.0  \n",
            "394         0.0  \n",
            "79          0.0  \n",
            "..          ...  \n",
            "71          0.0  \n",
            "106         0.0  \n",
            "270         0.0  \n",
            "435         0.0  \n",
            "102         0.0  \n",
            "\n",
            "[640 rows x 20531 columns]\n",
            "       gene_0    gene_1    gene_2    gene_3     gene_4  gene_5    gene_6  \\\n",
            "697  0.000000  3.272889  4.529234  7.134909   9.504362     0.0  5.668893   \n",
            "668  0.000000  3.824035  3.300241  6.630478   9.836429     0.0  7.969214   \n",
            "63   0.000000  4.418817  3.555374  6.468829   9.777303     0.0  6.361089   \n",
            "534  0.553164  3.733398  3.450472  6.064193   9.349929     0.0  7.348533   \n",
            "66   0.000000  4.570153  4.918243  6.772123   9.388325     0.0  8.747401   \n",
            "..        ...       ...       ...       ...        ...     ...       ...   \n",
            "799  0.000000  2.590339  2.787976  7.318624   9.987136     0.0  9.213464   \n",
            "745  0.000000  3.487692  4.071145  8.695938  10.396230     0.0  8.745140   \n",
            "513  0.000000  3.502611  4.152029  6.206401   9.141295     0.0  9.260289   \n",
            "671  0.000000  2.526920  2.660381  6.667552   9.647475     0.0  7.609821   \n",
            "264  0.000000  3.160243  2.672516  8.319076  10.240469     0.0  7.165138   \n",
            "\n",
            "       gene_7  gene_8  gene_9  ...  gene_20521  gene_20522  gene_20523  \\\n",
            "697  0.000000     0.0     0.0  ...    6.267908    9.177763    9.616317   \n",
            "668  0.404576     0.0     0.0  ...    5.912710    8.904328   10.066385   \n",
            "63   0.000000     0.0     0.0  ...    5.609722    8.692375   10.391888   \n",
            "534  0.539730     0.0     0.0  ...    7.588490    8.825954   10.269910   \n",
            "66   0.744333     0.0     0.0  ...    5.147152    8.162985    9.830548   \n",
            "..        ...     ...     ...  ...         ...         ...         ...   \n",
            "799  0.000000     0.0     0.0  ...    5.785237    8.605387   11.004677   \n",
            "745  0.000000     0.0     0.0  ...    4.707580    8.264368   10.210915   \n",
            "513  0.705314     0.0     0.0  ...    5.023517    7.746481    9.819013   \n",
            "671  0.000000     0.0     0.0  ...    6.192766    9.793984   10.003110   \n",
            "264  0.000000     0.0     0.0  ...    5.813361    8.684072    9.851277   \n",
            "\n",
            "     gene_20524  gene_20525  gene_20526  gene_20527  gene_20528  gene_20529  \\\n",
            "697    2.769518   10.003307   10.972786   10.383251    9.799725    3.153303   \n",
            "668    6.568055    9.963020   11.601093    9.570746   10.002717    5.385082   \n",
            "63     2.116697    9.751472   11.838751   10.293035    9.147676    4.538966   \n",
            "534    4.747500   10.845435   11.833432   10.578920    9.588820    4.450954   \n",
            "66     7.123294    9.685479   12.892025   10.476787    9.408534    8.607057   \n",
            "..          ...         ...         ...         ...         ...         ...   \n",
            "799    4.745888    9.626383   11.198279   10.335513   10.400581    5.718751   \n",
            "745    0.000000    8.446124   12.416890   10.176086    9.326966    3.713234   \n",
            "513    6.901313    9.530084   12.368992   10.503021    8.924421    4.404392   \n",
            "671    5.559486    9.733475   11.646473   10.550958    9.779411    5.511221   \n",
            "264    0.578407    8.915327   12.609366   10.623086    9.072915    5.406850   \n",
            "\n",
            "     gene_20530  \n",
            "697         0.0  \n",
            "668         0.0  \n",
            "63          0.0  \n",
            "534         0.0  \n",
            "66          0.0  \n",
            "..          ...  \n",
            "799         0.0  \n",
            "745         0.0  \n",
            "513         0.0  \n",
            "671         0.0  \n",
            "264         0.0  \n",
            "\n",
            "[161 rows x 20531 columns]\n",
            "    Class\n",
            "616  BRCA\n",
            "329  BRCA\n",
            "342  BRCA\n",
            "394  LUAD\n",
            "79   COAD\n",
            "..    ...\n",
            "71   BRCA\n",
            "106  LUAD\n",
            "270  KIRC\n",
            "435  KIRC\n",
            "102  BRCA\n",
            "\n",
            "[640 rows x 1 columns]\n",
            "    Class\n",
            "697  LUAD\n",
            "668  BRCA\n",
            "63   LUAD\n",
            "534  KIRC\n",
            "66   BRCA\n",
            "..    ...\n",
            "799  PRAD\n",
            "745  COAD\n",
            "513  LUAD\n",
            "671  BRCA\n",
            "264  COAD\n",
            "\n",
            "[161 rows x 1 columns]\n"
          ]
        }
      ]
    },
    {
      "cell_type": "code",
      "source": [
        "X_train= X_train.values\n",
        "X_test= X_test.values\n",
        "y_train = y_train.values.reshape(640,)\n",
        "y_test = y_test.values.reshape(161,)"
      ],
      "metadata": {
        "id": "-9-2FmUjHPYS"
      },
      "execution_count": 7,
      "outputs": []
    },
    {
      "cell_type": "code",
      "source": [
        "scaler = MinMaxScaler()\n",
        "X_train = scaler.fit_transform(X_train, y_train)\n",
        "X_test = scaler.fit_transform(X_test, y_test)"
      ],
      "metadata": {
        "id": "f4IK2CB7dSpZ"
      },
      "execution_count": 8,
      "outputs": []
    },
    {
      "cell_type": "code",
      "source": [
        "print(X_train)\n",
        "print(X_test)"
      ],
      "metadata": {
        "colab": {
          "base_uri": "https://localhost:8080/"
        },
        "id": "tTk6ge74ADjI",
        "outputId": "d42a8351-0b07-4e8b-fe9b-6ec1d62f9d5a"
      },
      "execution_count": 9,
      "outputs": [
        {
          "output_type": "stream",
          "name": "stdout",
          "text": [
            "[[0.         0.84294346 0.60330903 ... 0.63479461 0.44951174 0.        ]\n",
            " [0.         0.63697874 0.55560603 ... 0.27197346 0.91780791 0.        ]\n",
            " [0.         0.57264268 0.6432133  ... 0.32435705 0.69940163 0.        ]\n",
            " ...\n",
            " [0.         0.4053844  0.43214513 ... 0.28595653 0.33884298 0.        ]\n",
            " [0.         0.66284652 0.61393885 ... 0.43626284 0.54634472 0.        ]\n",
            " [0.         0.47947197 0.41021926 ... 0.46712759 0.59814325 0.        ]]\n",
            "[[0.         0.54083559 0.77448688 ... 0.49091095 0.25973384 0.        ]\n",
            " [0.         0.6319108  0.56433238 ... 0.54519265 0.49523641 0.        ]\n",
            " [0.         0.73019695 0.60795954 ... 0.31654705 0.40595229 0.        ]\n",
            " ...\n",
            " [0.         0.57879641 0.70998592 ... 0.25684668 0.39175171 0.        ]\n",
            " [0.         0.41756634 0.45491806 ... 0.48547868 0.50854688 0.        ]\n",
            " [0.         0.52222106 0.45699308 ... 0.29655542 0.49753333 0.        ]]\n"
          ]
        }
      ]
    },
    {
      "cell_type": "code",
      "source": [
        "lda = LinearDiscriminantAnalysis(n_components=4)\n",
        "lda.fit(X_train, y_train)\n",
        "X_train = lda.transform(X_train)\n",
        "X_test = lda.transform(X_test)"
      ],
      "metadata": {
        "id": "loR2ukPZTnBR"
      },
      "execution_count": 10,
      "outputs": []
    },
    {
      "cell_type": "code",
      "source": [
        "print(X_train)\n",
        "print(X_test)"
      ],
      "metadata": {
        "colab": {
          "base_uri": "https://localhost:8080/"
        },
        "id": "_bBz5J_6ASBv",
        "outputId": "3474223d-bbfa-412f-dd0f-dbd5d18a8497"
      },
      "execution_count": 11,
      "outputs": [
        {
          "output_type": "stream",
          "name": "stdout",
          "text": [
            "[[-1.4370783   4.46197944  2.23896876  0.1695975 ]\n",
            " [-2.20933446  6.5683174   4.39574855  1.86167201]\n",
            " [-2.36133411  5.36667453  3.36748834  1.95082708]\n",
            " ...\n",
            " [12.5393993  -4.24721023  1.60551812  1.12869146]\n",
            " [10.04400995 -4.05850262  0.9470645   1.32632865]\n",
            " [-2.73890382  4.52029356  3.36611525  1.84720654]]\n",
            "[[ 8.65071441e-01  3.33632933e+00 -5.68964541e+00 -1.13171267e+01]\n",
            " [-2.37497645e+00  8.01384653e+00  3.18416173e+00  1.21965830e+00]\n",
            " [ 9.31824562e-01  3.09127779e+00 -3.75977385e+00 -1.09079356e+01]\n",
            " [ 1.35617238e+01 -4.41711296e+00  1.68020891e+00  6.80215855e-01]\n",
            " [-1.99647112e+00  4.37912786e+00  2.80838017e+00  1.00263634e+00]\n",
            " [-3.09487294e+00  6.93872851e+00  2.62158136e+00  9.27314688e-02]\n",
            " [-1.21823333e+00  7.20516235e+00  2.77269314e+00  5.73203123e-01]\n",
            " [-3.38060041e-01  1.71515856e+00 -1.62041531e+01  6.93297592e+00]\n",
            " [-8.21079416e+00 -9.11821053e+00  6.36059035e-01 -5.33755111e-02]\n",
            " [-3.10412174e-02  2.80733329e+00 -4.24067520e+00 -9.43987343e+00]\n",
            " [-1.05977018e+00  2.24513019e+00 -1.59073799e+01  6.60757370e+00]\n",
            " [-2.93367968e+00  7.20544563e+00  4.22221297e+00  1.27146666e+00]\n",
            " [ 2.25234759e-01  2.16649668e+00 -5.06306918e+00 -9.45282246e+00]\n",
            " [-1.00263654e+01 -1.24987641e+01  1.94059970e+00  4.44009913e-04]\n",
            " [ 1.31733228e+01 -3.23325054e+00  1.91831995e+00  6.13550499e-01]\n",
            " [-6.40377311e-01  3.28698386e+00 -4.55505005e+00 -9.10809129e+00]\n",
            " [ 6.95261311e-01  2.64081347e+00 -4.26202596e+00 -8.86834034e+00]\n",
            " [-7.81338615e+00 -1.05456477e+01  1.07648055e+00  2.49656273e-01]\n",
            " [-9.78440597e-01  5.98808129e+00  1.93487168e+00  3.13111475e-01]\n",
            " [ 1.37590985e+00  2.75628470e+00 -4.73470213e+00 -9.63976892e+00]\n",
            " [ 1.48093308e+00  2.36749064e+00 -3.76893581e+00 -8.61796110e+00]\n",
            " [-1.33350495e+00  7.52563129e-01 -1.61416492e+01  5.84553451e+00]\n",
            " [ 1.55889253e+01 -4.72795935e+00  2.64020051e+00 -2.98270554e-01]\n",
            " [-2.13634373e+00  5.29870562e+00  2.55711385e+00 -9.87391142e-01]\n",
            " [-1.46726092e+00  6.56975600e+00  2.65098459e+00 -4.41065487e-01]\n",
            " [-2.81093249e+00  5.59486443e+00  4.54202504e+00  5.67064506e-01]\n",
            " [-1.53652496e+00  1.02069167e+00 -1.38891565e+01  6.68498887e+00]\n",
            " [-3.37055099e+00  7.83286725e+00  3.13251610e+00  1.83586432e+00]\n",
            " [-7.85944126e+00 -1.04828499e+01  2.57709885e+00 -3.38793539e-01]\n",
            " [-8.20453215e+00 -1.12978406e+01  1.92089568e+00  3.65562189e-01]\n",
            " [-2.37381461e+00  6.37799149e+00  3.66227784e+00  9.16637675e-01]\n",
            " [-9.19829509e+00 -1.22847511e+01  9.89838345e-01 -7.93036344e-01]\n",
            " [-9.92848062e+00 -1.10291116e+01  2.58548261e+00  1.60692062e-01]\n",
            " [-1.12309223e+00  1.15320858e+00 -1.46617130e+01  4.71224035e+00]\n",
            " [-2.71965810e+00  6.74941971e+00  3.31605548e+00 -2.86980557e-01]\n",
            " [-2.67002480e+00  7.16971754e+00  4.06954205e+00  1.10876993e+00]\n",
            " [ 2.29638413e-01  2.72057898e+00 -5.19635658e+00 -8.98942932e+00]\n",
            " [-1.22530812e+00  6.46828025e+00  2.88906827e+00 -3.40262841e-01]\n",
            " [ 1.33026576e+00  2.78040491e+00 -4.90218938e+00 -9.25006683e+00]\n",
            " [-7.95431757e-01  5.76761131e+00  1.81180267e+00 -1.69906065e-01]\n",
            " [-1.56465021e+00  2.71297483e+00 -1.55185934e+01  7.22269940e+00]\n",
            " [-2.35742331e+00  5.87615546e+00  2.28877739e+00 -6.33680975e-01]\n",
            " [-2.78565015e+00  6.09565007e+00  4.12721401e+00  9.35744875e-01]\n",
            " [-3.47168790e+00  7.05308746e+00  4.57971023e+00  2.20249141e+00]\n",
            " [ 1.48778725e+01 -4.31114226e+00  2.68327179e+00  1.82558720e+00]\n",
            " [-8.04688360e+00 -9.71044345e+00 -6.47219156e-01 -2.58351323e-01]\n",
            " [ 1.41447513e+01 -3.95529374e+00  1.94806260e+00  6.82973101e-01]\n",
            " [-2.14692196e+00  1.25955886e+00 -1.24272483e+01  5.67648384e+00]\n",
            " [-1.93468805e+00  6.07096962e+00  3.72387546e+00  9.25127360e-01]\n",
            " [-2.81497426e+00  7.38790680e+00  4.72141783e+00  9.05719471e-01]\n",
            " [-1.03060708e+01 -1.23495794e+01  1.97178096e+00 -3.72941103e-01]\n",
            " [ 5.94526959e-01  3.05881068e+00 -3.75982028e+00 -7.10813355e+00]\n",
            " [ 1.32619595e+01 -3.04813391e+00  1.14814996e+00 -7.09635782e-01]\n",
            " [-9.77221684e-01  6.30468491e+00  3.05674106e+00  1.68638443e+00]\n",
            " [ 1.35389111e+01 -3.95837961e+00  2.83438154e+00 -3.34584768e-01]\n",
            " [-8.62610370e-01  5.40877766e+00  4.18045996e+00  3.68210310e-01]\n",
            " [ 1.02987382e+01 -1.82733321e+00  2.63553472e+00  1.24029174e+00]\n",
            " [-3.05221577e+00  7.35322551e+00  3.12100243e+00  6.74949043e-01]\n",
            " [ 1.31774799e+00  3.08194112e+00 -4.92715749e+00 -9.46075500e+00]\n",
            " [ 2.57280971e+00  1.67965928e+00 -4.81489698e+00 -6.53799889e+00]\n",
            " [ 1.23271461e+00  1.74344165e+00 -3.71152898e+00 -9.02002506e+00]\n",
            " [ 1.28815859e+01 -4.10818575e+00  1.52063621e+00  1.44249311e+00]\n",
            " [-8.64796359e+00 -1.02432989e+01  1.13166960e+00 -9.05184462e-01]\n",
            " [-2.91096396e+00  6.19548864e+00  4.79508433e+00  1.04367689e+00]\n",
            " [-6.28786597e+00 -8.98958617e+00  9.37508802e-01  5.62933275e-01]\n",
            " [-2.98707904e+00  6.91140391e+00  4.33218049e+00  1.18982519e+00]\n",
            " [ 1.74025736e+00  3.20655519e+00 -5.22207584e+00 -9.42471729e+00]\n",
            " [-8.63679304e+00 -8.87137675e+00  1.84601468e+00  1.55996973e-01]\n",
            " [ 1.39926418e+01 -4.61145236e+00  1.42674453e+00  1.22916136e+00]\n",
            " [-2.74623664e+00  7.34807027e+00  2.07883704e+00  3.89183985e-01]\n",
            " [-2.86091350e+00  7.63462889e+00  3.99064803e+00  1.90455289e+00]\n",
            " [-1.10834094e-01  2.11848879e+00 -5.02012794e+00 -8.78668730e+00]\n",
            " [-2.91556378e+00  8.21708231e+00  4.33850824e+00  1.68446170e+00]\n",
            " [-1.94995115e+00  6.49849015e+00  3.96896033e+00  9.00793631e-01]\n",
            " [-2.63032792e+00  7.13711673e+00  3.33488831e+00  3.22320285e-01]\n",
            " [ 1.23010023e+00  2.47638058e+00 -4.27864940e+00 -7.68983435e+00]\n",
            " [-9.11365584e+00 -1.24800939e+01  2.27361582e+00 -2.16311623e-01]\n",
            " [-8.83652982e+00 -9.85719645e+00  2.08405136e+00  1.32140864e-01]\n",
            " [ 1.53864570e+01 -5.26210355e+00  1.98320277e+00  3.14781438e-01]\n",
            " [-1.40106648e+00  6.06159454e+00  2.93128557e+00  8.80067090e-01]\n",
            " [ 1.46435921e+01 -4.86001423e+00  2.93010134e+00  3.92973549e-01]\n",
            " [-3.04313939e+00  6.06179194e+00  2.05557912e+00  1.01211743e+00]\n",
            " [-3.31729265e+00  7.34824267e+00  3.01953137e+00  1.09395892e+00]\n",
            " [ 1.40976567e+01 -3.07368374e+00  3.08693968e+00 -3.00609455e-01]\n",
            " [ 6.04551857e-01  2.33726462e+00 -5.28611263e+00 -1.00507154e+01]\n",
            " [-2.80963650e+00  7.90927724e+00  2.27629044e+00  8.51538137e-02]\n",
            " [-2.93464607e+00  7.61931524e+00  3.89077146e+00  1.53282876e+00]\n",
            " [-7.72558501e+00 -9.59140582e+00  4.51801112e-01 -8.06452116e-01]\n",
            " [-1.53860728e+00  2.55493689e+00 -1.42651065e+01  7.58422650e+00]\n",
            " [-1.35062947e+00  2.57437711e+00 -1.40080397e+01  6.36885025e+00]\n",
            " [-1.58404536e+00  1.34397745e+00 -1.48058015e+01  5.70520134e+00]\n",
            " [ 1.36686120e+01 -3.33201717e+00  1.87003338e+00  1.45318957e+00]\n",
            " [-2.65238136e+00  6.62911742e+00  4.04859777e+00  1.62775717e+00]\n",
            " [-1.19467999e+00  7.38776082e+00  3.87569021e+00  9.45332917e-01]\n",
            " [-3.06220408e+00  7.85546064e+00  2.72314896e+00  3.06221133e-01]\n",
            " [-1.01570738e+01 -1.28946043e+01  3.17211618e+00 -8.55526269e-01]\n",
            " [ 8.57596686e-01  2.82012324e+00 -3.52091084e+00 -7.12035244e+00]\n",
            " [ 3.86544370e-02  2.18496629e+00 -9.58539701e+00  2.44761474e+00]\n",
            " [-1.45152369e+00  2.80031491e+00 -1.35633372e+01  7.16661119e+00]\n",
            " [-2.21836839e+00  5.98033821e+00  3.48660328e+00  1.74820828e+00]\n",
            " [-2.35483458e+00  6.87406437e+00  3.91953524e+00  1.49888952e+00]\n",
            " [-3.06728488e+00  7.02980708e+00  3.40915527e+00  1.01136173e+00]\n",
            " [-1.72468277e+00  6.86660613e+00  4.19238346e+00  1.28533330e+00]\n",
            " [ 2.20232888e+00  2.39158357e+00 -4.14120463e+00 -6.38643018e+00]\n",
            " [-2.55656182e+00  6.46873723e+00  3.61671206e+00  9.66915282e-02]\n",
            " [ 1.44260734e+01 -4.19275288e+00  1.73483533e+00  1.15372001e+00]\n",
            " [-3.40794742e+00  5.43378753e+00  3.82204031e+00  2.25134438e+00]\n",
            " [ 1.37741139e+01 -3.38266927e+00  1.93863177e+00  1.04237406e+00]\n",
            " [-2.57097765e+00  4.18159663e+00  2.48382466e+00 -6.34596988e-01]\n",
            " [-1.40603301e+00  6.69633477e+00  2.55871615e+00  7.92747531e-01]\n",
            " [-9.24617370e+00 -1.21393644e+01  2.22094982e+00 -4.26697126e-01]\n",
            " [ 9.42540741e+00 -3.90257084e+00  1.28532113e+00 -9.40655632e-02]\n",
            " [-7.78529094e+00 -1.15643537e+01  3.06637872e+00 -1.40990236e-01]\n",
            " [-3.46387895e+00  7.75297202e+00  4.51174247e+00  1.60240110e+00]\n",
            " [ 1.13517093e+00  4.05649684e+00 -4.84294550e+00 -8.10100633e+00]\n",
            " [-8.83848819e+00 -1.25394409e+01  3.34536990e+00 -1.18471073e+00]\n",
            " [-3.45597207e+00  6.93115460e+00  3.26195206e+00  1.52553439e-01]\n",
            " [ 6.84174262e-01  3.06804204e+00 -4.27411518e+00 -8.52137013e+00]\n",
            " [ 1.41700313e+00  2.60260230e+00 -5.05601374e+00 -9.39636359e+00]\n",
            " [-8.73611740e+00 -1.02795806e+01  9.74561505e-01 -3.24797556e-01]\n",
            " [ 1.39116289e+01 -4.46073421e+00  2.64802808e+00  1.10816472e+00]\n",
            " [ 1.44223513e+01 -4.87987502e+00  2.99991453e+00  1.32480920e+00]\n",
            " [-1.48259953e+00  6.25433385e+00  2.73886002e+00  7.93247008e-01]\n",
            " [ 4.06876231e-01  2.67079104e+00 -4.37937424e+00 -9.87979300e+00]\n",
            " [ 5.34056543e-01  2.17560871e+00 -4.01066289e+00 -6.19458477e+00]\n",
            " [-9.25774417e+00 -1.13252542e+01  2.23510359e+00 -1.22802680e+00]\n",
            " [-2.03602449e+00  7.15149759e+00  3.24843822e+00  9.55448603e-01]\n",
            " [-4.25636615e+00  5.84215900e+00 -3.88044319e-01  2.76046897e+00]\n",
            " [-3.35972607e-01  2.59701329e+00 -4.83561569e+00 -4.57205992e+00]\n",
            " [-1.00037532e+00  6.42261558e+00  2.08828591e+00  2.17498672e-01]\n",
            " [-1.79419721e+00  5.10817554e+00  4.15830945e+00  3.85084438e-01]\n",
            " [-3.57189725e+00  8.01363009e+00  5.19974093e+00  1.66583169e+00]\n",
            " [-8.09113471e+00 -1.08936592e+01  1.00378859e+00 -4.68392817e-01]\n",
            " [ 1.30457190e+01 -4.68948960e+00  1.79919475e+00  1.11115727e+00]\n",
            " [-2.12169530e+00  9.59568360e-01 -1.29817930e+01  4.72415499e+00]\n",
            " [-1.84250912e+00  7.63818654e+00  4.50052578e+00  1.29274095e+00]\n",
            " [-8.21545640e+00 -1.03612879e+01  7.83657238e-01  3.12957771e-01]\n",
            " [ 1.33876010e+00  3.07635731e+00 -4.33305725e+00 -7.75253828e+00]\n",
            " [-9.06235932e+00 -1.42126541e+01  1.90452574e+00 -2.08541895e-02]\n",
            " [-2.27462162e+00  6.74526120e+00  4.34188376e+00  5.30690077e-01]\n",
            " [-2.24171872e+00  5.98921830e+00  3.63464359e+00 -1.72555455e-01]\n",
            " [ 1.36543386e+01 -4.19812522e+00  2.17478509e+00  1.24266716e+00]\n",
            " [-8.49198009e+00 -1.12179784e+01  3.92841259e+00 -1.01719588e+00]\n",
            " [ 1.96520193e+00  2.06048362e+00 -5.10946675e+00 -7.81821690e+00]\n",
            " [-6.84803750e+00 -8.57194196e+00  1.87768480e+00  3.32665803e-01]\n",
            " [-1.30382972e+00  1.92537995e+00 -1.21835362e+01  7.25947126e+00]\n",
            " [ 1.34883062e+01 -4.39173924e+00  1.33591774e+00  1.39814316e+00]\n",
            " [-3.12660973e-02  4.96323795e+00  1.03130472e+00  9.38035257e-02]\n",
            " [-8.79099566e+00 -9.48227363e+00  2.48133901e+00  4.48613184e-01]\n",
            " [ 1.66433036e+01 -4.71569201e+00  1.15055218e+00 -1.24623708e+00]\n",
            " [-3.25844791e+00  6.48766696e+00  3.05820484e+00  1.28693113e+00]\n",
            " [-6.77028373e+00 -6.75712617e+00  1.22945173e+00 -1.45065970e+00]\n",
            " [-2.05674288e+00  4.33555547e+00  1.19507937e+00 -1.21103064e+00]\n",
            " [ 1.39058889e+01 -4.61072286e+00  1.37274884e+00 -1.18167088e-01]\n",
            " [ 1.49056142e+01 -4.69547983e+00  2.04888894e+00  1.61452012e+00]\n",
            " [-1.76443888e+00  1.60292380e+00 -1.61316080e+01  7.99614269e+00]\n",
            " [-8.56161665e+00 -1.02451951e+01  1.63712865e+00  5.54624030e-01]\n",
            " [-1.08498346e+00  3.20296181e+00 -1.58172338e+01  8.39007533e+00]\n",
            " [ 7.66764606e-01  2.88189983e+00 -5.00062691e+00 -9.58306442e+00]\n",
            " [-1.95644294e+00  6.67441845e+00  3.41465108e+00  1.33546993e+00]\n",
            " [-4.83755754e-01  2.17946559e+00 -1.41860018e+01  6.71048716e+00]]\n"
          ]
        }
      ]
    },
    {
      "cell_type": "code",
      "source": [
        "X_train_df = pd.DataFrame(X_train)\n",
        "corr_mat = X_train_df.corr()\n",
        "dataplot = sb.heatmap(corr_mat, cmap=\"RdYlGn\", annot=True)\n",
        "print('X_train correlation matrix:')\n",
        "plt.show()"
      ],
      "metadata": {
        "colab": {
          "base_uri": "https://localhost:8080/",
          "height": 286
        },
        "id": "UWPgKT_SRVuH",
        "outputId": "ec03fd6a-8a69-4b95-cfc6-d9e5ddbcc78e"
      },
      "execution_count": 12,
      "outputs": [
        {
          "output_type": "stream",
          "name": "stdout",
          "text": [
            "X_train correlation matrix:\n"
          ]
        },
        {
          "output_type": "display_data",
          "data": {
            "text/plain": [
              "<Figure size 432x288 with 2 Axes>"
            ],
            "image/png": "[encoded data removed]"
          },
          "metadata": {
            "needs_background": "light"
          }
        }
      ]
    },
    {
      "cell_type": "code",
      "source": [
        "X_test_df = pd.DataFrame(X_test)\n",
        "corr_mat = X_test_df.corr()\n",
        "dataplot = sb.heatmap(corr_mat, cmap=\"RdYlGn\", annot=True)\n",
        "print('X_test correlation matrix:')\n",
        "plt.show()"
      ],
      "metadata": {
        "colab": {
          "base_uri": "https://localhost:8080/",
          "height": 286
        },
        "id": "Ss5cnS0lSwgz",
        "outputId": "42b06a3d-6a76-4452-83ac-9985c77187f3"
      },
      "execution_count": 13,
      "outputs": [
        {
          "output_type": "stream",
          "name": "stdout",
          "text": [
            "X_test correlation matrix:\n"
          ]
        },
        {
          "output_type": "display_data",
          "data": {
            "text/plain": [
              "<Figure size 432x288 with 2 Axes>"
            ],
            "image/png": "[encoded data removed]"
          },
          "metadata": {
            "needs_background": "light"
          }
        }
      ]
    },
    {
      "cell_type": "code",
      "source": [
        "lr = LogisticRegression(solver='saga', random_state=42, max_iter=700)\n",
        "lr.fit(X_train, y_train)\n",
        "y_pred_test = lr.predict(X_test)\n",
        "\n",
        "print('Test set confusion matrix:')\n",
        "cm = confusion_matrix(y_test, y_pred_test)\n",
        "print(cm)\n",
        "print('Accuracy:')\n",
        "print(cm.trace() / cm.sum())\n",
        "print()\n",
        "y_pred_train = lr.predict(X_train)\n",
        "print('Train set confusion matrix:')\n",
        "cm = confusion_matrix(y_train, y_pred_train)\n",
        "print(cm)\n",
        "print('Accuracy:')\n",
        "print(cm.trace() / cm.sum())"
      ],
      "metadata": {
        "colab": {
          "base_uri": "https://localhost:8080/"
        },
        "id": "IxpkL8LW63GB",
        "outputId": "5369c4d8-6da0-4245-afeb-0bdaecd00570"
      },
      "execution_count": 14,
      "outputs": [
        {
          "output_type": "stream",
          "name": "stdout",
          "text": [
            "Test set confusion matrix:\n",
            "[[61  0  0  0  0]\n",
            " [ 0 17  0  0  0]\n",
            " [ 0  0 25  0  0]\n",
            " [ 0  0  0 29  0]\n",
            " [ 0  0  0  0 29]]\n",
            "Accuracy:\n",
            "1.0\n",
            "\n",
            "Train set confusion matrix:\n",
            "[[239   0   0   0   0]\n",
            " [  0  61   0   0   0]\n",
            " [  0   0 121   0   0]\n",
            " [  0   0   0 112   0]\n",
            " [  0   0   0   0 107]]\n",
            "Accuracy:\n",
            "1.0\n"
          ]
        }
      ]
    },
    {
      "cell_type": "code",
      "source": [
        "gnb = GaussianNB()\n",
        "gnb.fit(X_train, y_train)\n",
        "y_pred_test = gnb.predict(X_test)\n",
        "print('Test set confusion matrix:')\n",
        "cm = confusion_matrix(y_test, y_pred_test)\n",
        "print(cm)\n",
        "print('Accuracy:')\n",
        "print(cm.trace() / cm.sum())\n",
        "print()\n",
        "y_pred_train = gnb.predict(X_train)\n",
        "print('Train set confusion matrix:')\n",
        "cm = confusion_matrix(y_train, y_pred_train)\n",
        "print(cm)\n",
        "print('Accuracy:')\n",
        "print(cm.trace() / cm.sum())"
      ],
      "metadata": {
        "colab": {
          "base_uri": "https://localhost:8080/"
        },
        "id": "bVgNm_RU98K9",
        "outputId": "f0f41f7e-492f-4a6e-99be-611fd8ff70b1"
      },
      "execution_count": 15,
      "outputs": [
        {
          "output_type": "stream",
          "name": "stdout",
          "text": [
            "Test set confusion matrix:\n",
            "[[61  0  0  0  0]\n",
            " [ 0 17  0  0  0]\n",
            " [ 0  0 25  0  0]\n",
            " [ 0  0  0 29  0]\n",
            " [ 0  0  0  0 29]]\n",
            "Accuracy:\n",
            "1.0\n",
            "\n",
            "Train set confusion matrix:\n",
            "[[238   0   0   1   0]\n",
            " [  0  60   0   1   0]\n",
            " [  0   0 121   0   0]\n",
            " [  0   0   0 112   0]\n",
            " [  0   0   0   0 107]]\n",
            "Accuracy:\n",
            "0.996875\n"
          ]
        }
      ]
    },
    {
      "cell_type": "code",
      "source": [
        "dtc = tree.DecisionTreeClassifier(criterion='entropy')\n",
        "dtc.fit(X_train, y_train)\n",
        "y_pred_test = dtc.predict(X_test)\n",
        "print('Test set confusion matrix:')\n",
        "cm = confusion_matrix(y_test, y_pred_test)\n",
        "print(cm)\n",
        "print('Accuracy:')\n",
        "print(cm.trace() / cm.sum())\n",
        "print()\n",
        "y_pred_train = dtc.predict(X_train)\n",
        "print('Train set confusion matrix:')\n",
        "cm = confusion_matrix(y_train, y_pred_train)\n",
        "print(cm)\n",
        "print('Accuracy:')\n",
        "print(cm.trace() / cm.sum())"
      ],
      "metadata": {
        "colab": {
          "base_uri": "https://localhost:8080/"
        },
        "id": "u6bfyplECX0X",
        "outputId": "3e06f133-6bee-4863-d415-0f237d00debd"
      },
      "execution_count": 16,
      "outputs": [
        {
          "output_type": "stream",
          "name": "stdout",
          "text": [
            "Test set confusion matrix:\n",
            "[[61  0  0  0  0]\n",
            " [ 0 17  0  0  0]\n",
            " [ 0  0 25  0  0]\n",
            " [ 0  0  0 29  0]\n",
            " [ 0  0  0  0 29]]\n",
            "Accuracy:\n",
            "1.0\n",
            "\n",
            "Train set confusion matrix:\n",
            "[[239   0   0   0   0]\n",
            " [  0  61   0   0   0]\n",
            " [  0   0 121   0   0]\n",
            " [  0   0   0 112   0]\n",
            " [  0   0   0   0 107]]\n",
            "Accuracy:\n",
            "1.0\n"
          ]
        }
      ]
    },
    {
      "cell_type": "code",
      "source": [
        "dot_data = tree.export_graphviz(dtc, out_file=None) \n",
        "graph = graphviz.Source(dot_data) \n",
        "graph"
      ],
      "metadata": {
        "colab": {
          "base_uri": "https://localhost:8080/",
          "height": 519
        },
        "id": "nCCZ-nvaCXE-",
        "outputId": "524ff178-e0f2-47a4-f44e-01634102d798"
      },
      "execution_count": 17,
      "outputs": [
        {
          "output_type": "execute_result",
          "data": {
            "text/plain": [
              "<graphviz.files.Source at 0x7fcdadceb3d0>"
            ],
            "image/svg+xml": "<?xml version=\"1.0\" encoding=\"UTF-8\" standalone=\"no\"?>\n<!DOCTYPE svg PUBLIC \"-//W3C//DTD SVG 1.1//EN\"\n \"http://www.w3.org/Graphics/SVG/1.1/DTD/svg11.dtd\">\n<!-- Generated by graphviz version 2.40.1 (20161225.0304)\n -->\n<!-- Title: Tree Pages: 1 -->\n<svg width=\"804pt\" height=\"373pt\"\n viewBox=\"0.00 0.00 803.50 373.00\" xmlns=\"http://www.w3.org/2000/svg\" xmlns:xlink=\"http://www.w3.org/1999/xlink\">\n<g id=\"graph0\" class=\"graph\" transform=\"scale(1 1) rotate(0) translate(4 369)\">\n<title>Tree</title>\n<polygon fill=\"#ffffff\" stroke=\"transparent\" points=\"-4,4 -4,-369 799.5,-369 799.5,4 -4,4\"/>\n<!-- 0 -->\n<g id=\"node1\" class=\"node\">\n<title>0</title>\n<polygon fill=\"none\" stroke=\"#000000\" points=\"542.5,-365 321.5,-365 321.5,-297 542.5,-297 542.5,-365\"/>\n<text text-anchor=\"middle\" x=\"432\" y=\"-349.8\" font-family=\"Helvetica,sans-Serif\" font-size=\"14.00\" fill=\"#000000\">X[1] &lt;= &#45;1.316</text>\n<text text-anchor=\"middle\" x=\"432\" y=\"-334.8\" font-family=\"Helvetica,sans-Serif\" font-size=\"14.00\" fill=\"#000000\">entropy = 2.18</text>\n<text text-anchor=\"middle\" x=\"432\" y=\"-319.8\" font-family=\"Helvetica,sans-Serif\" font-size=\"14.00\" fill=\"#000000\">samples = 640</text>\n<text text-anchor=\"middle\" x=\"432\" y=\"-304.8\" font-family=\"Helvetica,sans-Serif\" font-size=\"14.00\" fill=\"#000000\">value = [239, 61, 121, 112, 107]</text>\n</g>\n<!-- 1 -->\n<g id=\"node2\" class=\"node\">\n<title>1</title>\n<polygon fill=\"none\" stroke=\"#000000\" points=\"420.5,-261 241.5,-261 241.5,-193 420.5,-193 420.5,-261\"/>\n<text text-anchor=\"middle\" x=\"331\" y=\"-245.8\" font-family=\"Helvetica,sans-Serif\" font-size=\"14.00\" fill=\"#000000\">X[0] &lt;= 2.221</text>\n<text text-anchor=\"middle\" x=\"331\" y=\"-230.8\" font-family=\"Helvetica,sans-Serif\" font-size=\"14.00\" fill=\"#000000\">entropy = 1.033</text>\n<text text-anchor=\"middle\" x=\"331\" y=\"-215.8\" font-family=\"Helvetica,sans-Serif\" font-size=\"14.00\" fill=\"#000000\">samples = 229</text>\n<text text-anchor=\"middle\" x=\"331\" y=\"-200.8\" font-family=\"Helvetica,sans-Serif\" font-size=\"14.00\" fill=\"#000000\">value = [0, 1, 121, 0, 107]</text>\n</g>\n<!-- 0&#45;&gt;1 -->\n<g id=\"edge1\" class=\"edge\">\n<title>0&#45;&gt;1</title>\n<path fill=\"none\" stroke=\"#000000\" d=\"M398.9288,-296.9465C390.1221,-287.8782 380.5093,-277.9799 371.3597,-268.5585\"/>\n<polygon fill=\"#000000\" stroke=\"#000000\" points=\"373.6232,-265.8654 364.1455,-261.13 368.6015,-270.7422 373.6232,-265.8654\"/>\n<text text-anchor=\"middle\" x=\"363.7797\" y=\"-282.4273\" font-family=\"Helvetica,sans-Serif\" font-size=\"14.00\" fill=\"#000000\">True</text>\n</g>\n<!-- 6 -->\n<g id=\"node7\" class=\"node\">\n<title>6</title>\n<polygon fill=\"none\" stroke=\"#000000\" points=\"627,-261 439,-261 439,-193 627,-193 627,-261\"/>\n<text text-anchor=\"middle\" x=\"533\" y=\"-245.8\" font-family=\"Helvetica,sans-Serif\" font-size=\"14.00\" fill=\"#000000\">X[2] &lt;= &#45;0.485</text>\n<text text-anchor=\"middle\" x=\"533\" y=\"-230.8\" font-family=\"Helvetica,sans-Serif\" font-size=\"14.00\" fill=\"#000000\">entropy = 1.371</text>\n<text text-anchor=\"middle\" x=\"533\" y=\"-215.8\" font-family=\"Helvetica,sans-Serif\" font-size=\"14.00\" fill=\"#000000\">samples = 411</text>\n<text text-anchor=\"middle\" x=\"533\" y=\"-200.8\" font-family=\"Helvetica,sans-Serif\" font-size=\"14.00\" fill=\"#000000\">value = [239, 60, 0, 112, 0]</text>\n</g>\n<!-- 0&#45;&gt;6 -->\n<g id=\"edge6\" class=\"edge\">\n<title>0&#45;&gt;6</title>\n<path fill=\"none\" stroke=\"#000000\" d=\"M465.0712,-296.9465C473.8779,-287.8782 483.4907,-277.9799 492.6403,-268.5585\"/>\n<polygon fill=\"#000000\" stroke=\"#000000\" points=\"495.3985,-270.7422 499.8545,-261.13 490.3768,-265.8654 495.3985,-270.7422\"/>\n<text text-anchor=\"middle\" x=\"500.2203\" y=\"-282.4273\" font-family=\"Helvetica,sans-Serif\" font-size=\"14.00\" fill=\"#000000\">False</text>\n</g>\n<!-- 2 -->\n<g id=\"node3\" class=\"node\">\n<title>2</title>\n<polygon fill=\"none\" stroke=\"#000000\" points=\"236.5,-157 73.5,-157 73.5,-89 236.5,-89 236.5,-157\"/>\n<text text-anchor=\"middle\" x=\"155\" y=\"-141.8\" font-family=\"Helvetica,sans-Serif\" font-size=\"14.00\" fill=\"#000000\">X[2] &lt;= &#45;4.084</text>\n<text text-anchor=\"middle\" x=\"155\" y=\"-126.8\" font-family=\"Helvetica,sans-Serif\" font-size=\"14.00\" fill=\"#000000\">entropy = 0.076</text>\n<text text-anchor=\"middle\" x=\"155\" y=\"-111.8\" font-family=\"Helvetica,sans-Serif\" font-size=\"14.00\" fill=\"#000000\">samples = 108</text>\n<text text-anchor=\"middle\" x=\"155\" y=\"-96.8\" font-family=\"Helvetica,sans-Serif\" font-size=\"14.00\" fill=\"#000000\">value = [0, 1, 0, 0, 107]</text>\n</g>\n<!-- 1&#45;&gt;2 -->\n<g id=\"edge2\" class=\"edge\">\n<title>1&#45;&gt;2</title>\n<path fill=\"none\" stroke=\"#000000\" d=\"M273.371,-192.9465C256.8091,-183.1599 238.6112,-172.4066 221.5575,-162.3294\"/>\n<polygon fill=\"#000000\" stroke=\"#000000\" points=\"223.1483,-159.2041 212.7585,-157.13 219.5872,-165.2306 223.1483,-159.2041\"/>\n</g>\n<!-- 5 -->\n<g id=\"node6\" class=\"node\">\n<title>5</title>\n<polygon fill=\"none\" stroke=\"#000000\" points=\"417.5,-149.5 254.5,-149.5 254.5,-96.5 417.5,-96.5 417.5,-149.5\"/>\n<text text-anchor=\"middle\" x=\"336\" y=\"-134.3\" font-family=\"Helvetica,sans-Serif\" font-size=\"14.00\" fill=\"#000000\">entropy = 0.0</text>\n<text text-anchor=\"middle\" x=\"336\" y=\"-119.3\" font-family=\"Helvetica,sans-Serif\" font-size=\"14.00\" fill=\"#000000\">samples = 121</text>\n<text text-anchor=\"middle\" x=\"336\" y=\"-104.3\" font-family=\"Helvetica,sans-Serif\" font-size=\"14.00\" fill=\"#000000\">value = [0, 0, 121, 0, 0]</text>\n</g>\n<!-- 1&#45;&gt;5 -->\n<g id=\"edge5\" class=\"edge\">\n<title>1&#45;&gt;5</title>\n<path fill=\"none\" stroke=\"#000000\" d=\"M332.6372,-192.9465C333.1509,-182.2621 333.7199,-170.4254 334.2416,-159.5742\"/>\n<polygon fill=\"#000000\" stroke=\"#000000\" points=\"337.7396,-159.6987 334.7239,-149.5422 330.7477,-159.3625 337.7396,-159.6987\"/>\n</g>\n<!-- 3 -->\n<g id=\"node4\" class=\"node\">\n<title>3</title>\n<polygon fill=\"none\" stroke=\"#000000\" points=\"146,-53 0,-53 0,0 146,0 146,-53\"/>\n<text text-anchor=\"middle\" x=\"73\" y=\"-37.8\" font-family=\"Helvetica,sans-Serif\" font-size=\"14.00\" fill=\"#000000\">entropy = 0.0</text>\n<text text-anchor=\"middle\" x=\"73\" y=\"-22.8\" font-family=\"Helvetica,sans-Serif\" font-size=\"14.00\" fill=\"#000000\">samples = 1</text>\n<text text-anchor=\"middle\" x=\"73\" y=\"-7.8\" font-family=\"Helvetica,sans-Serif\" font-size=\"14.00\" fill=\"#000000\">value = [0, 1, 0, 0, 0]</text>\n</g>\n<!-- 2&#45;&gt;3 -->\n<g id=\"edge3\" class=\"edge\">\n<title>2&#45;&gt;3</title>\n<path fill=\"none\" stroke=\"#000000\" d=\"M126.0899,-88.9777C118.3866,-79.9123 110.0581,-70.111 102.3324,-61.0192\"/>\n<polygon fill=\"#000000\" stroke=\"#000000\" points=\"104.8718,-58.6025 95.7293,-53.2485 99.5375,-63.1352 104.8718,-58.6025\"/>\n</g>\n<!-- 4 -->\n<g id=\"node5\" class=\"node\">\n<title>4</title>\n<polygon fill=\"none\" stroke=\"#000000\" points=\"327.5,-53 164.5,-53 164.5,0 327.5,0 327.5,-53\"/>\n<text text-anchor=\"middle\" x=\"246\" y=\"-37.8\" font-family=\"Helvetica,sans-Serif\" font-size=\"14.00\" fill=\"#000000\">entropy = 0.0</text>\n<text text-anchor=\"middle\" x=\"246\" y=\"-22.8\" font-family=\"Helvetica,sans-Serif\" font-size=\"14.00\" fill=\"#000000\">samples = 107</text>\n<text text-anchor=\"middle\" x=\"246\" y=\"-7.8\" font-family=\"Helvetica,sans-Serif\" font-size=\"14.00\" fill=\"#000000\">value = [0, 0, 0, 0, 107]</text>\n</g>\n<!-- 2&#45;&gt;4 -->\n<g id=\"edge4\" class=\"edge\">\n<title>2&#45;&gt;4</title>\n<path fill=\"none\" stroke=\"#000000\" d=\"M187.0832,-88.9777C195.7183,-79.8207 205.0614,-69.9129 213.7078,-60.744\"/>\n<polygon fill=\"#000000\" stroke=\"#000000\" points=\"216.4617,-62.9251 220.776,-53.2485 211.3689,-58.1226 216.4617,-62.9251\"/>\n</g>\n<!-- 7 -->\n<g id=\"node8\" class=\"node\">\n<title>7</title>\n<polygon fill=\"none\" stroke=\"#000000\" points=\"614.5,-157 443.5,-157 443.5,-89 614.5,-89 614.5,-157\"/>\n<text text-anchor=\"middle\" x=\"529\" y=\"-141.8\" font-family=\"Helvetica,sans-Serif\" font-size=\"14.00\" fill=\"#000000\">X[3] &lt;= &#45;1.027</text>\n<text text-anchor=\"middle\" x=\"529\" y=\"-126.8\" font-family=\"Helvetica,sans-Serif\" font-size=\"14.00\" fill=\"#000000\">entropy = 0.933</text>\n<text text-anchor=\"middle\" x=\"529\" y=\"-111.8\" font-family=\"Helvetica,sans-Serif\" font-size=\"14.00\" fill=\"#000000\">samples = 172</text>\n<text text-anchor=\"middle\" x=\"529\" y=\"-96.8\" font-family=\"Helvetica,sans-Serif\" font-size=\"14.00\" fill=\"#000000\">value = [0, 60, 0, 112, 0]</text>\n</g>\n<!-- 6&#45;&gt;7 -->\n<g id=\"edge7\" class=\"edge\">\n<title>6&#45;&gt;7</title>\n<path fill=\"none\" stroke=\"#000000\" d=\"M531.6903,-192.9465C531.376,-184.776 531.0358,-175.9318 530.7065,-167.3697\"/>\n<polygon fill=\"#000000\" stroke=\"#000000\" points=\"534.1945,-166.9881 530.3127,-157.13 527.1997,-167.2572 534.1945,-166.9881\"/>\n</g>\n<!-- 10 -->\n<g id=\"node11\" class=\"node\">\n<title>10</title>\n<polygon fill=\"none\" stroke=\"#000000\" points=\"795.5,-149.5 632.5,-149.5 632.5,-96.5 795.5,-96.5 795.5,-149.5\"/>\n<text text-anchor=\"middle\" x=\"714\" y=\"-134.3\" font-family=\"Helvetica,sans-Serif\" font-size=\"14.00\" fill=\"#000000\">entropy = 0.0</text>\n<text text-anchor=\"middle\" x=\"714\" y=\"-119.3\" font-family=\"Helvetica,sans-Serif\" font-size=\"14.00\" fill=\"#000000\">samples = 239</text>\n<text text-anchor=\"middle\" x=\"714\" y=\"-104.3\" font-family=\"Helvetica,sans-Serif\" font-size=\"14.00\" fill=\"#000000\">value = [239, 0, 0, 0, 0]</text>\n</g>\n<!-- 6&#45;&gt;10 -->\n<g id=\"edge10\" class=\"edge\">\n<title>6&#45;&gt;10</title>\n<path fill=\"none\" stroke=\"#000000\" d=\"M592.2662,-192.9465C613.7368,-180.6098 637.8807,-166.7371 658.9713,-154.6187\"/>\n<polygon fill=\"#000000\" stroke=\"#000000\" points=\"660.8795,-157.5589 667.8064,-149.5422 657.3921,-151.4895 660.8795,-157.5589\"/>\n</g>\n<!-- 8 -->\n<g id=\"node9\" class=\"node\">\n<title>8</title>\n<polygon fill=\"none\" stroke=\"#000000\" points=\"555.5,-53 392.5,-53 392.5,0 555.5,0 555.5,-53\"/>\n<text text-anchor=\"middle\" x=\"474\" y=\"-37.8\" font-family=\"Helvetica,sans-Serif\" font-size=\"14.00\" fill=\"#000000\">entropy = 0.0</text>\n<text text-anchor=\"middle\" x=\"474\" y=\"-22.8\" font-family=\"Helvetica,sans-Serif\" font-size=\"14.00\" fill=\"#000000\">samples = 112</text>\n<text text-anchor=\"middle\" x=\"474\" y=\"-7.8\" font-family=\"Helvetica,sans-Serif\" font-size=\"14.00\" fill=\"#000000\">value = [0, 0, 0, 112, 0]</text>\n</g>\n<!-- 7&#45;&gt;8 -->\n<g id=\"edge8\" class=\"edge\">\n<title>7&#45;&gt;8</title>\n<path fill=\"none\" stroke=\"#000000\" d=\"M509.6091,-88.9777C504.651,-80.2786 499.3067,-70.9018 494.3042,-62.1247\"/>\n<polygon fill=\"#000000\" stroke=\"#000000\" points=\"497.2378,-60.2033 489.2452,-53.2485 491.1562,-63.6696 497.2378,-60.2033\"/>\n</g>\n<!-- 9 -->\n<g id=\"node10\" class=\"node\">\n<title>9</title>\n<polygon fill=\"none\" stroke=\"#000000\" points=\"728.5,-53 573.5,-53 573.5,0 728.5,0 728.5,-53\"/>\n<text text-anchor=\"middle\" x=\"651\" y=\"-37.8\" font-family=\"Helvetica,sans-Serif\" font-size=\"14.00\" fill=\"#000000\">entropy = 0.0</text>\n<text text-anchor=\"middle\" x=\"651\" y=\"-22.8\" font-family=\"Helvetica,sans-Serif\" font-size=\"14.00\" fill=\"#000000\">samples = 60</text>\n<text text-anchor=\"middle\" x=\"651\" y=\"-7.8\" font-family=\"Helvetica,sans-Serif\" font-size=\"14.00\" fill=\"#000000\">value = [0, 60, 0, 0, 0]</text>\n</g>\n<!-- 7&#45;&gt;9 -->\n<g id=\"edge9\" class=\"edge\">\n<title>7&#45;&gt;9</title>\n<path fill=\"none\" stroke=\"#000000\" d=\"M572.0126,-88.9777C584.0524,-79.4545 597.1188,-69.1191 609.0935,-59.6473\"/>\n<polygon fill=\"#000000\" stroke=\"#000000\" points=\"611.5115,-62.1973 617.1833,-53.2485 607.1689,-56.7072 611.5115,-62.1973\"/>\n</g>\n</g>\n</svg>\n"
          },
          "metadata": {},
          "execution_count": 17
        }
      ]
    },
    {
      "cell_type": "code",
      "source": [
        "svc = SVC()\n",
        "svc.fit(X_train, y_train)\n",
        "y_pred_test = svc.predict(X_test)\n",
        "print('Test set confusion matrix:')\n",
        "cm = confusion_matrix(y_test, y_pred_test)\n",
        "print(cm)\n",
        "print('Accuracy:')\n",
        "print(cm.trace() / cm.sum())\n",
        "print()\n",
        "y_pred_train = svc.predict(X_train)\n",
        "print('Train set confusion matrix:')\n",
        "cm = confusion_matrix(y_train, y_pred_train)\n",
        "print(cm)\n",
        "print('Accuracy:')\n",
        "print(cm.trace() / cm.sum())"
      ],
      "metadata": {
        "colab": {
          "base_uri": "https://localhost:8080/"
        },
        "id": "xtXZRqtbIC9B",
        "outputId": "a1639254-27ee-4603-bfe9-9c2fab99f02b"
      },
      "execution_count": 18,
      "outputs": [
        {
          "output_type": "stream",
          "name": "stdout",
          "text": [
            "Test set confusion matrix:\n",
            "[[61  0  0  0  0]\n",
            " [ 0 17  0  0  0]\n",
            " [ 0  0 25  0  0]\n",
            " [ 0  0  0 29  0]\n",
            " [ 0  0  0  0 29]]\n",
            "Accuracy:\n",
            "1.0\n",
            "\n",
            "Train set confusion matrix:\n",
            "[[239   0   0   0   0]\n",
            " [  0  61   0   0   0]\n",
            " [  0   0 121   0   0]\n",
            " [  0   0   0 112   0]\n",
            " [  0   0   0   0 107]]\n",
            "Accuracy:\n",
            "1.0\n"
          ]
        }
      ]
    }
  ]
}